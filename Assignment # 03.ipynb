{
 "cells": [
  {
   "cell_type": "code",
   "execution_count": 1,
   "metadata": {},
   "outputs": [
    {
     "name": "stdout",
     "output_type": "stream",
     "text": [
      "Enter the key (int) to be added3\n",
      "Enter the value for the key to be added4\n",
      "Upadted Dic is  {3: 4}\n"
     ]
    }
   ],
   "source": [
    "#Task1\n",
    "key=int(input(\"Enter the key (int) to be added\"))\n",
    "value=int(input(\"Enter the value for the key to be added\"))\n",
    "dic={}\n",
    "dic.update({key:value})\n",
    "print(\"Upadted Dic is \",dic)"
   ]
  },
  {
   "cell_type": "code",
   "execution_count": 2,
   "metadata": {},
   "outputs": [
    {
     "name": "stdout",
     "output_type": "stream",
     "text": [
      "Update dictionary is : {'Shahbaz': 123, 'Latif': 456, 'PIAIC': 12}\n"
     ]
    }
   ],
   "source": [
    "#Task2\n",
    "dic1={'Shahbaz':123,'Latif':456}\n",
    "dic2={'PIAIC':12}\n",
    "dic1.update(dic2)\n",
    "print(\"Update dictionary is :\",dic1)"
   ]
  },
  {
   "cell_type": "code",
   "execution_count": 13,
   "metadata": {},
   "outputs": [
    {
     "name": "stdout",
     "output_type": "stream",
     "text": [
      "Enter key:Shahbaz\n",
      "key is present and  value is : 123\n"
     ]
    }
   ],
   "source": [
    "#Task3\n",
    " \n",
    "\n",
    "dic={'Shahbaz': 123, 'Latif': 456, 'PIAIC': 12}\n",
    "key=input(\"Enter key:\")\n",
    "if key in dic.keys():\n",
    "    print(\"key is present and  value is :\",dic[key])\n",
    "else:\n",
    "    print(\"not present\")"
   ]
  },
  {
   "cell_type": "code",
   "execution_count": 23,
   "metadata": {},
   "outputs": [
    {
     "name": "stdout",
     "output_type": "stream",
     "text": [
      "Enter a Number5\n",
      "{1: 1, 2: 4, 3: 9, 4: 16, 5: 25}\n"
     ]
    }
   ],
   "source": [
    "#Task 4 \n",
    "num=int(input(\"Enter a Number\"))\n",
    "dic={a:a*a for a in range (1,num+1)}\n",
    "\n",
    "print (dic)\n",
    "\n",
    "    \n"
   ]
  },
  {
   "cell_type": "code",
   "execution_count": 24,
   "metadata": {},
   "outputs": [
    {
     "name": "stdout",
     "output_type": "stream",
     "text": [
      "Sum of value in dic: 111\n"
     ]
    }
   ],
   "source": [
    "#Task5\n",
    "dic={'A':1,'B':10,'C':100}\n",
    "print(\"Sum of value in dic:\",sum(dic.values()))\n"
   ]
  },
  {
   "cell_type": "code",
   "execution_count": 25,
   "metadata": {},
   "outputs": [
    {
     "name": "stdout",
     "output_type": "stream",
     "text": [
      "1000\n"
     ]
    }
   ],
   "source": [
    "#task6\n",
    "dic={'A':1,'B':10,'C':100}\n",
    "total=1\n",
    "for i in dic:    \n",
    "    total=total*dic[i]\n",
    "print(total)\n"
   ]
  },
  {
   "cell_type": "code",
   "execution_count": 26,
   "metadata": {},
   "outputs": [
    {
     "name": "stdout",
     "output_type": "stream",
     "text": [
      "Initial dictionary {'A': 1, 'B': 10, 'C': 100}\n",
      "Enter the key to delete:B\n",
      "Updated dictionary {'A': 1, 'C': 100}\n"
     ]
    }
   ],
   "source": [
    "#task7\n",
    "dic= {'A':1,'B':10,'C':100}\n",
    "print(\"Initial dictionary\",dic)\n",
    "key=input(\"Enter the key to delete:\")\n",
    "if key in dic: \n",
    "    del dic[key]\n",
    "else:\n",
    "    print(\"Key not found\")\n",
    "print(\"Updated dictionary\",dic)\n"
   ]
  },
  {
   "cell_type": "code",
   "execution_count": 28,
   "metadata": {},
   "outputs": [
    {
     "name": "stdout",
     "output_type": "stream",
     "text": [
      "Enter number of elements for dictionary:2\n",
      "For keys:\n",
      "Enter element1:1\n",
      "Enter element2:2\n",
      "For values:\n",
      "Enter element1:3\n",
      "Enter element2:3\n",
      "The dictionary is:\n",
      "{1: 3, 2: 3}\n"
     ]
    }
   ],
   "source": [
    "#Task8\n",
    "keys=[]\n",
    "values=[]\n",
    "n=int(input(\"Enter number of elements for dictionary:\"))\n",
    "print(\"For keys:\")\n",
    "for x in range(0,n):\n",
    "    element=int(input(\"Enter element\" + str(x+1) + \":\"))\n",
    "    keys.append(element)\n",
    "print(\"For values:\")\n",
    "for x in range(0,n):\n",
    "    element=int(input(\"Enter element\" + str(x+1) + \":\"))\n",
    "    values.append(element)\n",
    "d=dict(zip(keys,values))\n",
    "print(\"The dictionary is:\")\n",
    "print(d)"
   ]
  },
  {
   "cell_type": "code",
   "execution_count": null,
   "metadata": {},
   "outputs": [],
   "source": [
    "#task9\n"
   ]
  },
  {
   "cell_type": "code",
   "execution_count": null,
   "metadata": {},
   "outputs": [],
   "source": [
    "#task10"
   ]
  }
 ],
 "metadata": {
  "kernelspec": {
   "display_name": "Python 3",
   "language": "python",
   "name": "python3"
  },
  "language_info": {
   "codemirror_mode": {
    "name": "ipython",
    "version": 3
   },
   "file_extension": ".py",
   "mimetype": "text/x-python",
   "name": "python",
   "nbconvert_exporter": "python",
   "pygments_lexer": "ipython3",
   "version": "3.7.4"
  }
 },
 "nbformat": 4,
 "nbformat_minor": 2
}
